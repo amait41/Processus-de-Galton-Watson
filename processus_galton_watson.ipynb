{
 "cells": [
  {
   "cell_type": "markdown",
   "metadata": {},
   "source": [
    "# Processus de Galton-Watson"
   ]
  },
  {
   "cell_type": "raw",
   "metadata": {},
   "source": [
    "[Introduction du projet\n",
    "Par la suite, les variables Xi,n suivront la loi Poisson de paramètre λ.]"
   ]
  },
  {
   "cell_type": "markdown",
   "metadata": {},
   "source": [
    "# 0. Notes"
   ]
  },
  {
   "cell_type": "markdown",
   "metadata": {},
   "source": [
    "-Est ce qu'il faut compliquer les programmes pour inclure les exeptions/rendre le tout plus accessible ou laisser les programmes brut avec les tests?\n",
    "Comment organiser la page?"
   ]
  },
  {
   "cell_type": "markdown",
   "metadata": {},
   "source": [
    "-La première partie peut être une partie \"statistique\" une variable aléatoire simulée. On peut donc inclure des notions d'échantillion et d'intervalles de confiance. La seconde peut être une partie proba donc plus lié à la théorie est à l'approche mathématique.\n",
    "Conséquence? => plus de python = plus de stat et plus de maths = plus de proba"
   ]
  },
  {
   "cell_type": "markdown",
   "metadata": {},
   "source": [
    "-Calculer intervalle de confiance pour le nombre d'un individus pour lequel on considère que Pext=0."
   ]
  },
  {
   "cell_type": "markdown",
   "metadata": {},
   "source": [
    "-Renommer la variable Z en demographie? #détail"
   ]
  },
  {
   "cell_type": "markdown",
   "metadata": {},
   "source": [
    "-Faut-il mettre les interprétations/observations sous les graphes?"
   ]
  },
  {
   "cell_type": "code",
   "execution_count": 1,
   "metadata": {},
   "outputs": [],
   "source": [
    "import numpy as np\n",
    "import matplotlib.pyplot as plt\n",
    "import numpy.random as npr\n",
    "from math import *\n",
    "%matplotlib inline"
   ]
  },
  {
   "cell_type": "markdown",
   "metadata": {},
   "source": [
    "## I. Evolution d'une population"
   ]
  },
  {
   "cell_type": "markdown",
   "metadata": {},
   "source": [
    "Dans cette partie nous allons simplement voir l'évolution d'une population en fonction du paramètre λ."
   ]
  },
  {
   "cell_type": "code",
   "execution_count": 2,
   "metadata": {
    "scrolled": true
   },
   "outputs": [],
   "source": [
    "def evo(λ, n, m):\n",
    "    \"\"\"Prend en entrée le paramètre λ de la loi de Poisson et n le nombre de générations à simuler.\n",
    "    Retourne un graphe du nombre d'individus dans la population en fonction du nombre de générations.\"\"\"\n",
    "    \n",
    "    Z = [1] #population au fil des générations.\n",
    "    i = 0   #génération\n",
    "    extinction = False\n",
    "    \n",
    "    while Z[-1] != 0 and Z[-1] < m and i < n: #on considère que Pext=0 quand la population \n",
    "        zn = 0                                #population à la génération n.\n",
    "        for j in range(Z[-1]):\n",
    "            zn += npr.poisson(λ)\n",
    "        Z.append(zn)\n",
    "        i += 1\n",
    "    \n",
    "    if Z[-1] == 0: extinction = True\n",
    "\n",
    "    return extinction, i, Z"
   ]
  },
  {
   "cell_type": "code",
   "execution_count": 3,
   "metadata": {},
   "outputs": [
    {
     "data": {
      "text/plain": [
       "[<matplotlib.lines.Line2D at 0x219ddfac5f8>]"
      ]
     },
     "execution_count": 3,
     "metadata": {},
     "output_type": "execute_result"
    },
    {
     "data": {
      "image/png": "[encoded data removed]",
      "text/plain": [
       "<Figure size 432x288 with 1 Axes>"
      ]
     },
     "metadata": {},
     "output_type": "display_data"
    }
   ],
   "source": [
    "extinction, generation , demographie = evo(1.3,100,500)\n",
    "\n",
    "x = [i for i in np.arange(0,generation+1,1)]\n",
    "y = demographie\n",
    "\n",
    "plt.plot(x,y)"
   ]
  },
  {
   "cell_type": "markdown",
   "metadata": {},
   "source": [
    "## II. Statistiques sur plusieurs populations"
   ]
  },
  {
   "cell_type": "code",
   "execution_count": 4,
   "metadata": {},
   "outputs": [],
   "source": [
    "def Pext_moyenne(λ, n, m, nb_pop):\n",
    "    \"\"\"Calcule la proportion moyenne des populations éteintes.\n",
    "    On prend en entrée λ le paramètre de la loi Poisson, n le nombre de générations à simuler pour une population, \n",
    "    m le nombre à partir duquel on considère qu'il n'y aura pas extinction et nb_pop le nombre de population à simuler.\n",
    "    On retourne une variable de type float.\"\"\"\n",
    "    \n",
    "    pop_eteinte = 0\n",
    "    \n",
    "    for i in range(nb_pop):\n",
    "        temp = evo(λ,n,m)[0]\n",
    "        if temp:\n",
    "            pop_eteinte += 1\n",
    "    return pop_eteinte / nb_pop"
   ]
  },
  {
   "cell_type": "code",
   "execution_count": 5,
   "metadata": {},
   "outputs": [
    {
     "data": {
      "text/plain": [
       "0.206"
      ]
     },
     "execution_count": 5,
     "metadata": {},
     "output_type": "execute_result"
    }
   ],
   "source": [
    "Pext_moyenne(2,50,500,500)"
   ]
  },
  {
   "cell_type": "code",
   "execution_count": 6,
   "metadata": {
    "scrolled": false
   },
   "outputs": [],
   "source": [
    "def Pext_λ():\n",
    "    \"\"\"Renvoie une courbe décrivant la probabilité d'extinction d'une population en fonction du paramètre λ.\"\"\"\n",
    "    x = [i for i in np.arange(0,10,0.05)]\n",
    "    y = [Pext_moyenne(i,50,500,50) for i in x]\n",
    "    plt.plot(x,y)\n",
    "    plt.grid()"
   ]
  },
  {
   "cell_type": "code",
   "execution_count": 7,
   "metadata": {},
   "outputs": [
    {
     "data": {
      "image/png": "[encoded data removed]",
      "text/plain": [
       "<Figure size 432x288 with 1 Axes>"
      ]
     },
     "metadata": {},
     "output_type": "display_data"
    }
   ],
   "source": [
    "Pext_λ()"
   ]
  },
  {
   "cell_type": "markdown",
   "metadata": {},
   "source": [
    "Observation : Pour une éxécution du programme plus rapide et un résultat plus proche de la théorie il vaut mieux augmenter le nombre de populations testées que le pas des λ."
   ]
  },
  {
   "cell_type": "markdown",
   "metadata": {},
   "source": [
    "## III. Valeurs extrêmes"
   ]
  },
  {
   "cell_type": "markdown",
   "metadata": {},
   "source": [
    "### 3.1 Plus grosse démographie atteinte par une population s'étant éteinte"
   ]
  },
  {
   "cell_type": "code",
   "execution_count": 8,
   "metadata": {},
   "outputs": [],
   "source": [
    "def ext_max(λ, n, m, nb_pop):\n",
    "    \"\"\"Fonction calculant le nombre maximum d'individus atteint par une population éteinte.\"\"\"\n",
    "    \n",
    "    maximum = -1\n",
    "    \n",
    "    for i in range(nb_pop):\n",
    "        \n",
    "        max_temp = -1\n",
    "        extinction, generation, Z = evo(λ, n, m)\n",
    "        \n",
    "        if extinction:\n",
    "            max_temp = max(Z)\n",
    "            if max_temp > maximum:\n",
    "                maximum = max_temp\n",
    "                \n",
    "    return maximum"
   ]
  },
  {
   "cell_type": "code",
   "execution_count": 9,
   "metadata": {},
   "outputs": [
    {
     "data": {
      "text/plain": [
       "26"
      ]
     },
     "execution_count": 9,
     "metadata": {},
     "output_type": "execute_result"
    }
   ],
   "source": [
    "ext_max(1.1,100,1000,100)"
   ]
  },
  {
   "cell_type": "markdown",
   "metadata": {},
   "source": [
    "Quelle est la plus grosse démographie atteinte par un population s'étant éteinte en fonction de λ?"
   ]
  },
  {
   "cell_type": "code",
   "execution_count": 10,
   "metadata": {},
   "outputs": [],
   "source": [
    "def demographie_λ(n, m, nb_pop):\n",
    "    x = [i for i in np.arange(0,7,0.05)]\n",
    "    y = [ext_max(i,n,m,nb_pop) for i in x]\n",
    "    plt.plot(x,y)\n",
    "    plt.grid()"
   ]
  },
  {
   "cell_type": "code",
   "execution_count": 11,
   "metadata": {
    "scrolled": true
   },
   "outputs": [
    {
     "data": {
      "image/png": "[encoded data removed]",
      "text/plain": [
       "<Figure size 432x288 with 1 Axes>"
      ]
     },
     "metadata": {},
     "output_type": "display_data"
    }
   ],
   "source": [
    "demographie_λ(75, 500, 50)"
   ]
  },
  {
   "cell_type": "markdown",
   "metadata": {},
   "source": [
    "C'est aux alentours de 1 qu'il y a \"les plus grosses populations subissant une extinction\"."
   ]
  },
  {
   "cell_type": "markdown",
   "metadata": {},
   "source": [
    "### 3.2 Croissance maximal d'une population."
   ]
  },
  {
   "cell_type": "code",
   "execution_count": 12,
   "metadata": {},
   "outputs": [],
   "source": [
    "def croissance_max(λ, n, m, nb_pop):\n",
    "    \"\"\"Calcul de la croissance maximum d'une population parmis un certain nombre.\"\"\"\n",
    "    \n",
    "    maximum = -1\n",
    "    \n",
    "    for i in range(nb_pop):\n",
    "        \n",
    "        max_temp = -1\n",
    "        extinction, generation, Z = evo(λ,n,m)\n",
    "        \n",
    "        if not extinction:\n",
    "            max_temp = Z[-1] / n\n",
    "        \n",
    "        if max_temp > maximum:\n",
    "                maximum = max_temp\n",
    "    \n",
    "    m = round(maximum,2)\n",
    "    \n",
    "    return maximum"
   ]
  },
  {
   "cell_type": "code",
   "execution_count": 13,
   "metadata": {
    "scrolled": true
   },
   "outputs": [
    {
     "data": {
      "text/plain": [
       "7.613333333333333"
      ]
     },
     "execution_count": 13,
     "metadata": {},
     "output_type": "execute_result"
    }
   ],
   "source": [
    "croissance_max(1.1, 75, 500, 100)"
   ]
  },
  {
   "cell_type": "markdown",
   "metadata": {},
   "source": [
    "Quelle est la croissance maximale d'une population en fonction de λ?"
   ]
  },
  {
   "cell_type": "code",
   "execution_count": 35,
   "metadata": {},
   "outputs": [],
   "source": [
    "def croissance_λ(n, m, nb_pop):\n",
    "    x = [i for i in np.arange(0,50,0.05)]\n",
    "    y = [croissance_max(i,n,m,nb_pop) for i in x]\n",
    "    plt.plot(x,y)\n",
    "    plt.grid()"
   ]
  },
  {
   "cell_type": "code",
   "execution_count": 36,
   "metadata": {
    "scrolled": false
   },
   "outputs": [
    {
     "data": {
      "image/png": "[encoded data removed]",
      "text/plain": [
       "<Figure size 432x288 with 1 Axes>"
      ]
     },
     "metadata": {},
     "output_type": "display_data"
    }
   ],
   "source": [
    "croissance_λ(75, 100, 500)"
   ]
  },
  {
   "cell_type": "markdown",
   "metadata": {},
   "source": [
    "Comment expliquer que la courbe est des perturbations surl'intervalle [15;19]?"
   ]
  },
  {
   "cell_type": "markdown",
   "metadata": {},
   "source": [
    "## IV. Probabilité d'extinction en fonction de λ"
   ]
  },
  {
   "cell_type": "code",
   "execution_count": 16,
   "metadata": {},
   "outputs": [],
   "source": [
    "def G(x0, λ):\n",
    "    \"\"\"Prends en entrée un réel s compris entre 0 et 1 ainsi qu'un lambda strictement positif, paramètre de la loi Poisson. \n",
    "    Il sort la valeur pour s de la fonction génératrice de la variable aléatoire X suivant un loi poisson de paramètre λ.\"\"\"\n",
    "    sum = 0\n",
    "    for k in range(10):\n",
    "        sum += exp(-λ)*(λ**k/factorial(k))*x0**k\n",
    "    return sum"
   ]
  },
  {
   "cell_type": "code",
   "execution_count": 17,
   "metadata": {
    "scrolled": true
   },
   "outputs": [
    {
     "data": {
      "text/plain": [
       "<matplotlib.legend.Legend at 0x219de3bf1d0>"
      ]
     },
     "execution_count": 17,
     "metadata": {},
     "output_type": "execute_result"
    },
    {
     "data": {
      "image/png": "[encoded data removed]",
      "text/plain": [
       "<Figure size 432x288 with 1 Axes>"
      ]
     },
     "metadata": {},
     "output_type": "display_data"
    }
   ],
   "source": [
    "x = [i for i in np.arange(0,1.01,0.01)]\n",
    "\n",
    "y = [G(i,0.5) for i in x]\n",
    "plt.plot(x,y, label=\"λ=0.5\") \n",
    "\n",
    "y = [G(i,1.1) for i in x]\n",
    "plt.plot(x,y, label=\"λ=1.1\")\n",
    "\n",
    "plt.plot(x,x, label=\"y=x\")\n",
    "\n",
    "y = [G(i,2) for i in x]\n",
    "plt.plot(x,y, label=\"λ=2\")\n",
    "\n",
    "y = [G(i,3) for i in x]\n",
    "plt.plot(x, y, label=\"λ=3\")\n",
    "\n",
    "plt.legend()"
   ]
  },
  {
   "cell_type": "markdown",
   "metadata": {},
   "source": [
    "Dans un premier temps nous allons utiliser la méthode de newton pour trouver le point fixe correspondant à la probabilité d'extinction."
   ]
  },
  {
   "cell_type": "code",
   "execution_count": 18,
   "metadata": {},
   "outputs": [],
   "source": [
    "def Pext_newton(λ, x0, e):\n",
    "    \"\"\"Soit G la fonction génératrice d'une variable aléatoire suivant une loi Poisson de paramètre λ.\n",
    "    Ceci est une fonction déterminant la probabilité d'extinction d'une population (point fixe de G sur [0;1]).\n",
    "    On utilise la méthode Newton pour approcher la valeur du point fixe.\"\"\"\n",
    "    \n",
    "    def G(x0):\n",
    "        \"\"\"Prends en entrée un réel s compris entre 0 et 1 ainsi qu'un lambda strictement positif, paramètre de la loi Poisson. \n",
    "        Il sort la valeur pour s de la fonction génératrice de la variable aléatoire X suivant un loi poisson de paramètre λ.\"\"\"\n",
    "        sum = 0\n",
    "        for k in range(10):\n",
    "            sum += exp(-λ)*(λ**k/factorial(k))*x0**k\n",
    "        return sum - x0\n",
    "    \n",
    "    def dg(x):\n",
    "        return (G(x+0.00001)-G(x-0.00001))/0.00002 \n",
    "    \n",
    "    def h(x):\n",
    "        return x - G(x)/dg(x)\n",
    "    \n",
    "    l = [x0]\n",
    "    L = [x0]\n",
    "    \n",
    "    while L[-1] > e:\n",
    "        l.append(h(l[-1]))\n",
    "        L.append(abs(l[-2]-l[-1]))\n",
    "        print(l[-1])\n",
    "    return l"
   ]
  },
  {
   "cell_type": "code",
   "execution_count": 19,
   "metadata": {
    "scrolled": true
   },
   "outputs": [
    {
     "name": "stdout",
     "output_type": "stream",
     "text": [
      "0.1946282643473024\n",
      "0.20313885221232308\n",
      "0.20318786832735095\n"
     ]
    },
    {
     "data": {
      "image/png": "[encoded data removed]",
      "text/plain": [
       "<Figure size 432x288 with 1 Axes>"
      ]
     },
     "metadata": {},
     "output_type": "display_data"
    }
   ],
   "source": [
    "l=Pext_newton(2, 0.3, 0.0001)\n",
    "plt.plot(l);"
   ]
  },
  {
   "cell_type": "markdown",
   "metadata": {},
   "source": [
    "Le point positif de cette méthode est qu'elle converge vite, on s'approche du point fixe plus vite qu'avec la méthode de dichotomie. Cependant, il est nécéssaire d'avoir une idée de la probabilité d'extinction pour pouvoir saisir un x0 pas trop loin du point fixe. Sinon on obtient un résultat faux. On peut essayer avec λ = 2, x0 = 0.8 et e=0.001 pour s'en convaincre."
   ]
  },
  {
   "cell_type": "code",
   "execution_count": 20,
   "metadata": {},
   "outputs": [],
   "source": [
    "def Pext_dicho(λ,e):\n",
    "    \"\"\"Soit G la fonction génératrice d'une variable aléatoire suivant une loi Poisson de paramètre l.\n",
    "    Ceci est une fonction déterminant la probabilité d'extinction d'une population (point fixe de G sur [0;1]).\n",
    "    On utilise la méthode de dichotomie pour approcher la valeur du point fixe.\"\"\"\n",
    "    \n",
    "    def G(x0):\n",
    "        \"\"\"Prends en entrée un réel s compris entre 0 et 1 ainsi qu'un lambda strictement positif, paramètre de la loi Poisson. \n",
    "        Il sort la valeur pour s de la fonction génératrice de la variable aléatoire X suivant un loi poisson de paramètre λ.\"\"\"\n",
    "        sum = 0\n",
    "        for k in range(10):\n",
    "            sum += exp(-λ)*(λ**k/factorial(k))*x0**k\n",
    "        return sum - x0\n",
    "    \n",
    "    a=0\n",
    "    b=1\n",
    "    D=[]\n",
    "    \n",
    "    while b-a > e:\n",
    "        c=(a+b)/2\n",
    "        if G(a)*G(c)<0:\n",
    "            a,b=a,c\n",
    "        else:\n",
    "            a,b=c,b\n",
    "        D.append((b+a)/2)\n",
    "    return D"
   ]
  },
  {
   "cell_type": "code",
   "execution_count": 21,
   "metadata": {},
   "outputs": [
    {
     "name": "stdout",
     "output_type": "stream",
     "text": [
      "0.20361328125\n"
     ]
    }
   ],
   "source": [
    "print(Pext_dicho(2, 0.001)[-1])"
   ]
  },
  {
   "cell_type": "code",
   "execution_count": 22,
   "metadata": {
    "scrolled": false
   },
   "outputs": [
    {
     "data": {
      "text/plain": [
       "[<matplotlib.lines.Line2D at 0x219de49f6d8>]"
      ]
     },
     "execution_count": 22,
     "metadata": {},
     "output_type": "execute_result"
    },
    {
     "data": {
      "image/png": "[encoded data removed]",
      "text/plain": [
       "<Figure size 432x288 with 1 Axes>"
      ]
     },
     "metadata": {},
     "output_type": "display_data"
    }
   ],
   "source": [
    "y = Pext_dicho(2, 0.00001)\n",
    "plt.plot(y)"
   ]
  },
  {
   "cell_type": "markdown",
   "metadata": {},
   "source": [
    "Nous avons donc vu quelques résultats avec λ fixé. A présent, nous allons voir comment évolut la valeur du point fixe en fonction de la valeur du paramètre λ."
   ]
  },
  {
   "cell_type": "code",
   "execution_count": 23,
   "metadata": {
    "scrolled": true
   },
   "outputs": [
    {
     "data": {
      "image/png": "[encoded data removed]",
      "text/plain": [
       "<Figure size 432x288 with 1 Axes>"
      ]
     },
     "metadata": {},
     "output_type": "display_data"
    }
   ],
   "source": [
    "x = [i for i in np.arange(0,10,0.01)]\n",
    "y = [Pext_dicho(i, 0.0001)[-1] for i in x]\n",
    "plt.plot(x,y)\n",
    "plt.grid()"
   ]
  }
 ],
 "metadata": {
  "kernelspec": {
   "display_name": "Python 3",
   "language": "python",
   "name": "python3"
  },
  "language_info": {
   "codemirror_mode": {
    "name": "ipython",
    "version": 3
   },
   "file_extension": ".py",
   "mimetype": "text/x-python",
   "name": "python",
   "nbconvert_exporter": "python",
   "pygments_lexer": "ipython3",
   "version": "3.6.5"
  }
 },
 "nbformat": 4,
 "nbformat_minor": 2
}
